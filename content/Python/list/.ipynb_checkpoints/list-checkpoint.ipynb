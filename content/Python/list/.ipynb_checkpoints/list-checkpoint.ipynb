{
 "cells": [
  {
   "cell_type": "code",
   "execution_count": 3,
   "metadata": {},
   "outputs": [
    {
     "data": {
      "text/plain": [
       "9"
      ]
     },
     "execution_count": 3,
     "metadata": {},
     "output_type": "execute_result"
    }
   ],
   "source": [
    "a=[9,\"中山\",\"math\",2.5,[2,8]]\n",
    "a[-5]\n",
    "a[0]"
   ]
  },
  {
   "cell_type": "code",
   "execution_count": 13,
   "metadata": {},
   "outputs": [
    {
     "name": "stdout",
     "output_type": "stream",
     "text": [
      "c= 2\n",
      "d= 9\n",
      "e= 2\n",
      "f= 3\n"
     ]
    }
   ],
   "source": [
    "b = [[1,2],[9,4,5]]\n",
    "c = b[0][1]\n",
    "d=b[1][0]\n",
    "e=len(b)\n",
    "f= len(b[1])\n",
    "print(\"c=\",c)\n",
    "print(\"d=\",d)\n",
    "print(\"e=\",e)\n",
    "print(\"f=\",f)"
   ]
  },
  {
   "cell_type": "code",
   "execution_count": null,
   "metadata": {},
   "outputs": [],
   "source": []
  },
  {
   "cell_type": "code",
   "execution_count": 18,
   "metadata": {},
   "outputs": [
    {
     "name": "stdout",
     "output_type": "stream",
     "text": [
      "[1, 5]\n"
     ]
    }
   ],
   "source": [
    "a =[1,2,3,4,5]\n",
    "a[1:-1]=a\n",
    "a[1:-1]=[]\n",
    "print(a)"
   ]
  },
  {
   "cell_type": "code",
   "execution_count": 30,
   "metadata": {},
   "outputs": [
    {
     "data": {
      "text/plain": [
       "[1, 2]"
      ]
     },
     "execution_count": 30,
     "metadata": {},
     "output_type": "execute_result"
    }
   ],
   "source": [
    "a=[1,2]\n",
    "b = a\n",
    "b=b+[3]\n",
    "a\n"
   ]
  },
  {
   "cell_type": "code",
   "execution_count": 31,
   "metadata": {},
   "outputs": [
    {
     "data": {
      "text/plain": [
       "[1, 2, 3]"
      ]
     },
     "execution_count": 31,
     "metadata": {},
     "output_type": "execute_result"
    }
   ],
   "source": [
    "a=[1,2]\n",
    "b = a\n",
    "b+=[3]\n",
    "a"
   ]
  },
  {
   "cell_type": "code",
   "execution_count": 32,
   "metadata": {},
   "outputs": [
    {
     "name": "stdout",
     "output_type": "stream",
     "text": [
      "a =  [1, 2, 3, 4, ['a', 'b', 'c'], 5]\n",
      "b =  [1, 2, 3, 4, ['a', 'b', 'c'], 5]\n",
      "c =  [1, 2, 3, 4, ['a', 'b', 'c']]\n",
      "d =  [1, 2, 3, 4, ['a', 'b']]\n"
     ]
    }
   ],
   "source": [
    "import copy\n",
    "a = [1, 2, 3, 4, ['a', 'b']] #原始对象\n",
    " \n",
    "b = a                       #赋值，传对象的引用\n",
    "c = copy.copy(a)            #对象拷贝，浅拷贝\n",
    "d = copy.deepcopy(a)        #对象拷贝，深拷贝\n",
    " \n",
    "a.append(5)                 #修改对象a\n",
    "a[4].append('c')            #修改对象a中的['a', 'b']数组对象\n",
    " \n",
    "print( 'a = ', a )\n",
    "print( 'b = ', b )\n",
    "print( 'c = ', c )\n",
    "print( 'd = ', d )"
   ]
  },
  {
   "cell_type": "code",
   "execution_count": 70,
   "metadata": {},
   "outputs": [
    {
     "name": "stdout",
     "output_type": "stream",
     "text": [
      "[0, 1, 2, 3, 4, 5, 6, 7, 8, 9]\n"
     ]
    }
   ],
   "source": [
    "### list comprehension\n",
    "# 一般寫法\n",
    "\n",
    "arr1 = []\n",
    "\n",
    "for i in range(10):\n",
    "    arr1.append(i)\n",
    "\n",
    "print(arr1)"
   ]
  },
  {
   "cell_type": "code",
   "execution_count": 71,
   "metadata": {},
   "outputs": [
    {
     "name": "stdout",
     "output_type": "stream",
     "text": [
      "[0, 1, 2, 3, 4, 5, 6, 7, 8, 9]\n"
     ]
    }
   ],
   "source": [
    "# in-place construction\n",
    "arr1 = [i for i in range(10)]\n",
    "\n",
    "print(arr1)"
   ]
  },
  {
   "cell_type": "code",
   "execution_count": 72,
   "metadata": {},
   "outputs": [
    {
     "name": "stdout",
     "output_type": "stream",
     "text": [
      "[0, 1, 2, 3, 4, 5, 6, 7, 8, 9]\n",
      "[0, 2, 4, 6, 8]\n",
      "[3, 5, 7, 9]\n",
      "[(0, 0), (0, 1), (0, 2), (0, 3), (1, 0), (1, 1), (1, 2), (1, 3), (2, 0), (2, 1), (2, 2), (2, 3)]\n"
     ]
    }
   ],
   "source": [
    "# in-place construction\n",
    "arr1 = [i for i in range(10)]\n",
    "\n",
    "# you can use if to filter the elements\n",
    "arr2 = [x for x in arr1 if x % 2 == 0]\n",
    "\n",
    "# you can use as many conditions as you want!\n",
    "arr3 = [x for x in arr1 if x >= 3 and x % 2]\n",
    "\n",
    "# use nested for loops to make everyone dizzy XD\n",
    "arr4 = [(x, y) for x in range(3) for y in range(4)]\n",
    "\n",
    "print(arr1)\n",
    "print(arr2)\n",
    "print(arr3)\n",
    "print(arr4)"
   ]
  },
  {
   "cell_type": "code",
   "execution_count": 41,
   "metadata": {},
   "outputs": [
    {
     "data": {
      "text/plain": [
       "[[3, 9]]"
      ]
     },
     "execution_count": 41,
     "metadata": {},
     "output_type": "execute_result"
    }
   ],
   "source": [
    "[x for x in range(4)]\n",
    "[t*t for t in [1,2,3]]\n",
    "[[x,x*x] for x in range(3)]\n",
    "[x for x in range(10) if x not in [3,4,5]]\n",
    "[[x,x*x] for x in range(4) if x//3]"
   ]
  },
  {
   "cell_type": "code",
   "execution_count": 42,
   "metadata": {},
   "outputs": [
    {
     "data": {
      "text/plain": [
       "[[3, 8], [3, 8]]"
      ]
     },
     "execution_count": 42,
     "metadata": {},
     "output_type": "execute_result"
    }
   ],
   "source": [
    "\n",
    "###############################\n",
    "\n",
    "\n",
    "\n",
    "a=[3,4]\n",
    "b=[a]*2\n",
    "a[1]=8\n",
    "b"
   ]
  },
  {
   "cell_type": "code",
   "execution_count": 43,
   "metadata": {},
   "outputs": [
    {
     "data": {
      "text/plain": [
       "[3, 4, 3, 4]"
      ]
     },
     "execution_count": 43,
     "metadata": {},
     "output_type": "execute_result"
    }
   ],
   "source": [
    "a=[3,4]\n",
    "b=a[:]*2\n",
    "a[1]=8\n",
    "b"
   ]
  },
  {
   "cell_type": "code",
   "execution_count": null,
   "metadata": {},
   "outputs": [],
   "source": [
    "#for 迴圈與串列"
   ]
  },
  {
   "cell_type": "code",
   "execution_count": 45,
   "metadata": {},
   "outputs": [
    {
     "name": "stdout",
     "output_type": "stream",
     "text": [
      "1 \n",
      "8 2 \n",
      "4 3 3 \n"
     ]
    }
   ],
   "source": [
    "b =[[1],[8,2],[4,3,3]]\n",
    "for i in range(len(b)):\n",
    "    for j in range(len(b[i])):\n",
    "        print(b[i][j],end=\" \")\n",
    "    print()"
   ]
  },
  {
   "cell_type": "code",
   "execution_count": 51,
   "metadata": {},
   "outputs": [
    {
     "name": "stdout",
     "output_type": "stream",
     "text": [
      "1 \n",
      "8 2 \n",
      "4 3 3 \n"
     ]
    }
   ],
   "source": [
    "#同上\n",
    "b =[[1],[8,2],[4,3,3]]\n",
    "for p in b:\n",
    "    for x in p:\n",
    "        print(x,end=\" \")\n",
    "    print()"
   ]
  },
  {
   "cell_type": "code",
   "execution_count": 48,
   "metadata": {},
   "outputs": [
    {
     "name": "stdout",
     "output_type": "stream",
     "text": [
      "1 \n",
      "8 2 \n",
      "4 3 3 \n"
     ]
    }
   ],
   "source": [
    "#同上\n",
    "for p in [[1],[8,2],[4,3,3]]:\n",
    "    for x in p:\n",
    "        print(x,end=\" \")\n",
    "    print()"
   ]
  },
  {
   "cell_type": "code",
   "execution_count": null,
   "metadata": {},
   "outputs": [],
   "source": [
    "#for 迴圈更改 串列元素"
   ]
  },
  {
   "cell_type": "code",
   "execution_count": 50,
   "metadata": {
    "scrolled": true
   },
   "outputs": [
    {
     "name": "stdout",
     "output_type": "stream",
     "text": [
      "[11, 18, 13]\n"
     ]
    }
   ],
   "source": [
    "a =[1,8,3]\n",
    "for i in range(len(a)):\n",
    "    a[i]+=10\n",
    "print(a)"
   ]
  },
  {
   "cell_type": "code",
   "execution_count": null,
   "metadata": {},
   "outputs": [],
   "source": []
  },
  {
   "cell_type": "code",
   "execution_count": 52,
   "metadata": {},
   "outputs": [
    {
     "name": "stdout",
     "output_type": "stream",
     "text": [
      "[1, 8, 3]\n"
     ]
    }
   ],
   "source": [
    "a =[1,8,3]\n",
    "for x in a:\n",
    "    x+=10\n",
    "print(a)"
   ]
  },
  {
   "cell_type": "code",
   "execution_count": 57,
   "metadata": {},
   "outputs": [
    {
     "name": "stdout",
     "output_type": "stream",
     "text": [
      "[[11], [15, 18], [13, 14]]\n"
     ]
    }
   ],
   "source": [
    "b=[[1],[5,8],[3,4]]\n",
    "for i in range(len(b)):\n",
    "    for j in range(len(b[i])):\n",
    "        b[i][j]+=10\n",
    "print(b)"
   ]
  },
  {
   "cell_type": "code",
   "execution_count": 58,
   "metadata": {},
   "outputs": [
    {
     "name": "stdout",
     "output_type": "stream",
     "text": [
      "[[11], [15, 18], [13, 14]]\n"
     ]
    }
   ],
   "source": [
    "b=[[1],[5,8],[3,4]]\n",
    "for p in b:\n",
    "    for i in range(len(p)):\n",
    "        p[i]+=10\n",
    "print(b)"
   ]
  },
  {
   "cell_type": "code",
   "execution_count": 61,
   "metadata": {},
   "outputs": [
    {
     "name": "stdout",
     "output_type": "stream",
     "text": [
      "[[1], [5, 8], [3, 4]]\n"
     ]
    }
   ],
   "source": [
    "#有誤\n",
    "b=[[1],[5,8],[3,4]]\n",
    "for p in b:\n",
    "    for x in p:\n",
    "        x +=10\n",
    "print(b)"
   ]
  },
  {
   "cell_type": "code",
   "execution_count": null,
   "metadata": {},
   "outputs": [],
   "source": [
    "#字串分解成字元串列"
   ]
  },
  {
   "cell_type": "code",
   "execution_count": 62,
   "metadata": {},
   "outputs": [
    {
     "data": {
      "text/plain": [
       "['a', 'b', 'c']"
      ]
     },
     "execution_count": 62,
     "metadata": {},
     "output_type": "execute_result"
    }
   ],
   "source": [
    "list(\"abc\")"
   ]
  },
  {
   "cell_type": "code",
   "execution_count": 63,
   "metadata": {},
   "outputs": [
    {
     "data": {
      "text/plain": [
       "['1', '2', '3']"
      ]
     },
     "execution_count": 63,
     "metadata": {},
     "output_type": "execute_result"
    }
   ],
   "source": [
    "list(\"123\")"
   ]
  },
  {
   "cell_type": "code",
   "execution_count": 65,
   "metadata": {},
   "outputs": [
    {
     "data": {
      "text/plain": [
       "[4, 2, 3]"
      ]
     },
     "execution_count": 65,
     "metadata": {},
     "output_type": "execute_result"
    }
   ],
   "source": [
    "n=423\n",
    "a=[int(x) for x in list(str(n))]\n",
    "a"
   ]
  },
  {
   "cell_type": "code",
   "execution_count": null,
   "metadata": {},
   "outputs": [],
   "source": [
    "#使用index取出下標"
   ]
  },
  {
   "cell_type": "code",
   "execution_count": 66,
   "metadata": {},
   "outputs": [
    {
     "data": {
      "text/plain": [
       "0"
      ]
     },
     "execution_count": 66,
     "metadata": {},
     "output_type": "execute_result"
    }
   ],
   "source": [
    "dirs=[\"west\",\"north\",\"west\",\"south\"]\n",
    "dirs.index(\"west\")"
   ]
  },
  {
   "cell_type": "code",
   "execution_count": 68,
   "metadata": {},
   "outputs": [
    {
     "name": "stdout",
     "output_type": "stream",
     "text": [
      "west:0 north:1 west:0 south:3 "
     ]
    }
   ],
   "source": [
    "for d in dirs:\n",
    "    print(d,dirs.index(d),sep=\":\",end=\" \")"
   ]
  },
  {
   "cell_type": "code",
   "execution_count": null,
   "metadata": {},
   "outputs": [],
   "source": [
    "####tuple##"
   ]
  },
  {
   "cell_type": "code",
   "execution_count": 74,
   "metadata": {},
   "outputs": [
    {
     "data": {
      "text/plain": [
       "3"
      ]
     },
     "execution_count": 74,
     "metadata": {},
     "output_type": "execute_result"
    }
   ],
   "source": [
    "(one,two,three)=(1,2,3)\n",
    "three"
   ]
  },
  {
   "cell_type": "code",
   "execution_count": 75,
   "metadata": {},
   "outputs": [
    {
     "data": {
      "text/plain": [
       "3"
      ]
     },
     "execution_count": 75,
     "metadata": {},
     "output_type": "execute_result"
    }
   ],
   "source": [
    "[one,two,three]=[1,2,3]\n",
    "three"
   ]
  },
  {
   "cell_type": "code",
   "execution_count": 76,
   "metadata": {},
   "outputs": [
    {
     "data": {
      "text/plain": [
       "6"
      ]
     },
     "execution_count": 76,
     "metadata": {},
     "output_type": "execute_result"
    }
   ],
   "source": [
    "a=(4,5,6)\n",
    "(four,five,six) = a\n",
    "six"
   ]
  },
  {
   "cell_type": "code",
   "execution_count": 77,
   "metadata": {},
   "outputs": [
    {
     "data": {
      "text/plain": [
       "2"
      ]
     },
     "execution_count": 77,
     "metadata": {},
     "output_type": "execute_result"
    }
   ],
   "source": [
    "###小括號省略\n",
    "\n",
    "one ,two =1,2\n",
    "two"
   ]
  },
  {
   "cell_type": "code",
   "execution_count": 79,
   "metadata": {},
   "outputs": [],
   "source": [
    "from random import*"
   ]
  },
  {
   "cell_type": "code",
   "execution_count": 82,
   "metadata": {},
   "outputs": [
    {
     "name": "stdout",
     "output_type": "stream",
     "text": [
      "0.4867200676882866\n",
      "0.6229973999177287\n",
      "-0.5681957844554919\n",
      "0.39087687240861757\n"
     ]
    }
   ],
   "source": [
    "nums = [uniform(-1,1) for i in range(4)]\n",
    "for x in nums : print(x)"
   ]
  },
  {
   "cell_type": "code",
   "execution_count": 85,
   "metadata": {},
   "outputs": [
    {
     "name": "stdout",
     "output_type": "stream",
     "text": [
      "[-0.5903251082623902, 0.3351431014940154, -0.5958451499766018, 0.568850457028085]\n"
     ]
    }
   ],
   "source": [
    "nums = [uniform(-1,1) for i in range(4)]\n",
    "print(nums)"
   ]
  },
  {
   "cell_type": "code",
   "execution_count": 88,
   "metadata": {},
   "outputs": [
    {
     "name": "stdout",
     "output_type": "stream",
     "text": [
      "[6, 1, 6, 3, 1, 3, 4, 5, 5, 1]\n"
     ]
    }
   ],
   "source": [
    "## 10 人擲骰子'\n",
    "\n",
    "import random\n",
    "\n",
    "foo = [random.randint(1,6) for i in range(10)]\n",
    "print(foo)"
   ]
  },
  {
   "cell_type": "code",
   "execution_count": 100,
   "metadata": {},
   "outputs": [
    {
     "name": "stdout",
     "output_type": "stream",
     "text": [
      "[4, 7, 9, 8, 2, 3, 5, 10, 1, 6]\n",
      "1: 4 7 \n",
      "2: 9 8 \n",
      "3: 2 3 \n",
      "4: 5 10 \n"
     ]
    }
   ],
   "source": [
    "# 10個號碼隨意分給4個人,每人2球\n",
    "balls=list(range(1,11))\n",
    "\n",
    "#打亂順序\n",
    "\n",
    "random.shuffle(balls)\n",
    "print(balls)\n",
    "#分給4人,美人2球\n",
    "pno,m=4,2\n",
    "\n",
    "for i in range(pno):\n",
    "    print(i+1,end=\": \")\n",
    "    for x in balls[i*m:i*m+m]:\n",
    "        print(x,end=\" \")\n",
    "    print()"
   ]
  },
  {
   "cell_type": "code",
   "execution_count": 101,
   "metadata": {},
   "outputs": [
    {
     "name": "stdout",
     "output_type": "stream",
     "text": [
      "1: 馬 馬 獅 馬 \n",
      "2: 獅 鳳 馬 牛 \n",
      "3: 鳳 牛 牛 馬 \n"
     ]
    }
   ],
   "source": [
    "#三人各擲四次色子\n",
    "\n",
    "dices = \"牛馬獅虎龍鳳\"\n",
    "\n",
    "#3人任意投擲4次\n",
    "\n",
    "pno , m = 3 ,4\n",
    "\n",
    "for p in range(pno):\n",
    "    print(p+1,end=\": \")\n",
    "    \n",
    "    for k in range(m):\n",
    "        print(random.choice(dices),end=\" \")\n",
    "    print()"
   ]
  },
  {
   "cell_type": "code",
   "execution_count": null,
   "metadata": {},
   "outputs": [
    {
     "name": "stdout",
     "output_type": "stream",
     "text": [
      "> 10\n",
      "\\9/                                     \n",
      " |          \\8/                         \n",
      " |           |                  \\7/     \n",
      " |           |          \\6/ \\6/  |      \n",
      " |           |  \\5/      |   |   |      \n",
      " |           |   |       |   |   |      \n",
      " |           |   |       |   |   |  \\3/ \n",
      " |  \\2/      |   |  \\2/  |   |   |   |  \n",
      " |   |  \\1/  |   |   |   |   |   |   |  \n",
      "=======================================\n",
      "> -1\n",
      "\n",
      "\n",
      "\n",
      "\n",
      "\n",
      "\n",
      "\n",
      "\n",
      "\n",
      "\n",
      "> 10\n",
      "                            \\9/         \n",
      "                             |          \n",
      "                    \\7/      |  \\7/     \n",
      "        \\6/          |       |   |      \n",
      "    \\5/  |           |       |   |      \n",
      "     |   |      \\4/  |       |   |      \n",
      "     |   |       |   |  \\3/  |   |  \\3/ \n",
      "\\2/  |   |  \\2/  |   |   |   |   |   |  \n",
      " |   |   |   |   |   |   |   |   |   |  \n",
      "=======================================\n"
     ]
    }
   ],
   "source": [
    "import random \n",
    "\n",
    "while True :\n",
    "\n",
    "\t# 斜條線數量\n",
    "\tn = int( input(\"> \") )\n",
    "\n",
    "\t# m 最長直線高\n",
    "\t# w 直條圖寬 \n",
    "\tm , w = 9 , 3\n",
    "\n",
    "\t# 使用亂數設定各直條線長\n",
    "\tvals = [ random.randint(1,m) for i in range(1,n+1) ]\n",
    "\n",
    "\t# 畫直條線\n",
    "\tfor s in range(m,0,-1) :\n",
    "\t\t\n",
    "\t\tfor val in vals :\n",
    "\n",
    "\t\t\tif s > val :\n",
    "\t\t\t\tprint( \" \"*w , end=\" \" )\n",
    "\t\t\telif s == val :\n",
    "\t\t\t\tprint( \"\\\\\" + str(val) + \"/\" , end=\" \" )\n",
    "\t\t\telse :\n",
    "\t\t\t\tprint( \" | \" , end=\" \" )\n",
    "\n",
    "\t\tprint() \n",
    "\n",
    "\t# 畫底部等號\n",
    "\tprint( \"=\"*( (w+1)*n - 1) )\n"
   ]
  },
  {
   "cell_type": "code",
   "execution_count": null,
   "metadata": {},
   "outputs": [],
   "source": [
    "1+1\n"
   ]
  },
  {
   "cell_type": "code",
   "execution_count": 10,
   "metadata": {},
   "outputs": [
    {
     "name": "stdout",
     "output_type": "stream",
     "text": [
      "24/160 25/160 31/160 31/160 25/160 24/160 \n"
     ]
    }
   ],
   "source": [
    "from random import *\n",
    "\n",
    "n , total = 5 , 50000\n",
    "\n",
    "counts = [ 0 for x in range(n+1) ]\n",
    "\n",
    "for k in range(total) :\n",
    "\n",
    "    # 起始落下的位置\n",
    "    ball_pos = 2*randint(1,n) - 1\n",
    "\n",
    "    # 第一層釘子\n",
    "    move = 2*randint(0,1) - 1\n",
    "    ball_pos += move \n",
    "\n",
    "    # 第二到第五層釘子\n",
    "    for i in range(2) :\n",
    "        \n",
    "        move = 2*randint(0,1) - 1\n",
    "        ball_pos += move \n",
    "\n",
    "        # 碰到兩側，提前離開\n",
    "        if ball_pos < 0 or ball_pos > 2*n : break \n",
    "\n",
    "        move = 2*randint(0,1) - 1\n",
    "        ball_pos += move \n",
    "\n",
    "    # 球數統計\n",
    "    if ball_pos < 0 : \n",
    "        counts[0] += 1\n",
    "    elif ball_pos > 2*n :\n",
    "        counts[-1] += 1\n",
    "    else :\n",
    "        counts[ball_pos//2] += 1\n",
    "\n",
    "# 列印\n",
    "for no in counts :\n",
    "    s = int(160*no/total+0.5)\n",
    "    print(str(s)+\"/160\",end=\" \")\n",
    "\n",
    "print()        \n"
   ]
  },
  {
   "cell_type": "code",
   "execution_count": null,
   "metadata": {},
   "outputs": [],
   "source": []
  },
  {
   "cell_type": "code",
   "execution_count": null,
   "metadata": {},
   "outputs": [],
   "source": []
  }
 ],
 "metadata": {
  "kernelspec": {
   "display_name": "Python 3",
   "language": "python",
   "name": "python3"
  },
  "language_info": {
   "codemirror_mode": {
    "name": "ipython",
    "version": 3
   },
   "file_extension": ".py",
   "mimetype": "text/x-python",
   "name": "python",
   "nbconvert_exporter": "python",
   "pygments_lexer": "ipython3",
   "version": "3.6.5"
  }
 },
 "nbformat": 4,
 "nbformat_minor": 2
}
